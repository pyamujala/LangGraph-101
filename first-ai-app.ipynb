{
 "cells": [
  {
   "cell_type": "markdown",
   "metadata": {},
   "source": [
    "## My first Groq based ai agent"
   ]
  },
  {
   "cell_type": "code",
   "execution_count": 7,
   "metadata": {},
   "outputs": [
    {
     "name": "stdout",
     "output_type": "stream",
     "text": [
      "Requirement already satisfied: python-dotenv in c:\\python39\\lib\\site-packages (1.0.1)\n",
      "Note: you may need to restart the kernel to use updated packages.\n",
      "Collecting groqNote: you may need to restart the kernel to use updated packages.\n",
      "\n",
      "  Downloading groq-0.14.0-py3-none-any.whl.metadata (14 kB)\n",
      "Requirement already satisfied: anyio<5,>=3.5.0 in c:\\python39\\lib\\site-packages (from groq) (4.8.0)\n",
      "Requirement already satisfied: distro<2,>=1.7.0 in c:\\python39\\lib\\site-packages (from groq) (1.9.0)\n",
      "Requirement already satisfied: httpx<1,>=0.23.0 in c:\\python39\\lib\\site-packages (from groq) (0.28.1)\n",
      "Requirement already satisfied: pydantic<3,>=1.9.0 in c:\\python39\\lib\\site-packages (from groq) (2.10.5)\n",
      "Requirement already satisfied: sniffio in c:\\python39\\lib\\site-packages (from groq) (1.3.1)\n",
      "Requirement already satisfied: typing-extensions<5,>=4.10 in c:\\users\\pradeepyamujala\\appdata\\roaming\\python\\python39\\site-packages (from groq) (4.12.2)\n",
      "Requirement already satisfied: exceptiongroup>=1.0.2 in c:\\users\\pradeepyamujala\\appdata\\roaming\\python\\python39\\site-packages (from anyio<5,>=3.5.0->groq) (1.2.2)\n",
      "Requirement already satisfied: idna>=2.8 in c:\\python39\\lib\\site-packages (from anyio<5,>=3.5.0->groq) (3.10)\n",
      "Requirement already satisfied: certifi in c:\\python39\\lib\\site-packages (from httpx<1,>=0.23.0->groq) (2024.12.14)\n",
      "Requirement already satisfied: httpcore==1.* in c:\\python39\\lib\\site-packages (from httpx<1,>=0.23.0->groq) (1.0.7)\n",
      "Requirement already satisfied: h11<0.15,>=0.13 in c:\\python39\\lib\\site-packages (from httpcore==1.*->httpx<1,>=0.23.0->groq) (0.14.0)\n",
      "Requirement already satisfied: annotated-types>=0.6.0 in c:\\python39\\lib\\site-packages (from pydantic<3,>=1.9.0->groq) (0.7.0)\n",
      "Requirement already satisfied: pydantic-core==2.27.2 in c:\\python39\\lib\\site-packages (from pydantic<3,>=1.9.0->groq) (2.27.2)\n",
      "Downloading groq-0.14.0-py3-none-any.whl (109 kB)\n",
      "Installing collected packages: groq\n",
      "Successfully installed groq-0.14.0\n"
     ]
    }
   ],
   "source": [
    "# Install the required package\n",
    "%pip install python-dotenv\n",
    "%pip install groq"
   ]
  },
  {
   "cell_type": "code",
   "execution_count": 3,
   "metadata": {},
   "outputs": [
    {
     "name": "stdout",
     "output_type": "stream",
     "text": [
      "c:\\Repository\\LangGraph\\LangGraph-101\\.env.local\n"
     ]
    }
   ],
   "source": [
    "# Load environments\n",
    "from dotenv import load_dotenv\n",
    "import os\n",
    "import os.path\n",
    "\n",
    "def load_env_file(filepath):\n",
    "    with open(filepath) as f:\n",
    "        for line in f:\n",
    "            if line.strip() and not line.startswith('#'):\n",
    "                key, value = line.strip().split('=', 1)\n",
    "                os.environ[key] = value\n",
    "\n",
    "# Load the environment variables\n",
    "filename = \".env.local\"\n",
    "full_path = os.path.join(os.getcwd(), filename)\n",
    "print(full_path)\n",
    "\n",
    "if os.path.exists(full_path): \n",
    "    load_env_file(full_path)     \n",
    "else:\n",
    "    load_dotenv()"
   ]
  },
  {
   "cell_type": "code",
   "execution_count": 10,
   "metadata": {},
   "outputs": [
    {
     "name": "stdout",
     "output_type": "stream",
     "text": [
      "As an AI, I don't have personal beliefs or experiences to draw on, so I can't provide a definitive answer to the meaning of life. It's a question that philosophers and individuals have pondered for centuries.\n",
      "\n",
      "However, I can offer some perspectives:\n",
      "\n",
      "* **Meaning is subjective:** The meaning of life is often unique to each individual. What gives life meaning for one person may be different for another.\n",
      "\n",
      "* **Purpose and goals:** Many people find meaning in setting goals and working towards something bigger than themselves. This could be a career, a family, a creative pursuit, or a cause they believe in.\n",
      "* **Connection and relationships:**\n",
      "\n",
      "Humans are social creatures, and meaningful connections with others can provide a sense of purpose and belonging.\n",
      "* **Experiences and growth:** Life is a journey of learning, growing, and experiencing new things. Some find meaning in embracing challenges, expanding their horizons, and developing as individuals.\n",
      "\n",
      "* **Making a difference:**\n",
      "\n",
      "Contributing to something greater than oneself, whether through acts of kindness, helping others, or creating something meaningful, can give life purpose.\n",
      "\n",
      "Ultimately, the meaning of life is a question that each individual must answer for themselves. What do you find meaningful? What brings you joy and fulfillment? Exploring these questions can help you discover your own unique purpose.\n",
      "\n"
     ]
    }
   ],
   "source": [
    "# Call Groq api \n",
    "from groq import Groq\n",
    "\n",
    "client  = Groq(api_key = os.getenv(\"GROQ_API_KEY\"))\n",
    "chat_completion = client.chat.completions.create(\n",
    "    messages=[\n",
    "        {\n",
    "            \"role\": \"user\",\n",
    "            \"content\": \"What is the meaning of life?\"\n",
    "        }\n",
    "    ],\n",
    "    model=\"gemma2-9b-it\",\n",
    "    stream=False\n",
    ")\n",
    "\n",
    "print(chat_completion.choices[0].message.content)"
   ]
  }
 ],
 "metadata": {
  "kernelspec": {
   "display_name": "Python 3",
   "language": "python",
   "name": "python3"
  },
  "language_info": {
   "codemirror_mode": {
    "name": "ipython",
    "version": 3
   },
   "file_extension": ".py",
   "mimetype": "text/x-python",
   "name": "python",
   "nbconvert_exporter": "python",
   "pygments_lexer": "ipython3",
   "version": "3.9.7"
  }
 },
 "nbformat": 4,
 "nbformat_minor": 2
}
