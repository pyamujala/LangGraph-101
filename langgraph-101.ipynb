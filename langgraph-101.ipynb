{
 "cells": [
  {
   "cell_type": "code",
   "execution_count": 3,
   "metadata": {},
   "outputs": [
    {
     "name": "stdout",
     "output_type": "stream",
     "text": [
      "Requirement already satisfied: python-dotenv in c:\\python39\\lib\\site-packages (1.0.1)\n",
      "Note: you may need to restart the kernel to use updated packages.\n",
      "Requirement already satisfied: groq in c:\\python39\\lib\\site-packages (0.14.0)Note: you may need to restart the kernel to use updated packages.\n",
      "\n",
      "Requirement already satisfied: anyio<5,>=3.5.0 in c:\\python39\\lib\\site-packages (from groq) (4.8.0)\n",
      "Requirement already satisfied: distro<2,>=1.7.0 in c:\\python39\\lib\\site-packages (from groq) (1.9.0)\n",
      "Requirement already satisfied: httpx<1,>=0.23.0 in c:\\python39\\lib\\site-packages (from groq) (0.28.1)\n",
      "Requirement already satisfied: pydantic<3,>=1.9.0 in c:\\python39\\lib\\site-packages (from groq) (2.10.5)\n",
      "Requirement already satisfied: sniffio in c:\\python39\\lib\\site-packages (from groq) (1.3.1)\n",
      "Requirement already satisfied: typing-extensions<5,>=4.10 in c:\\users\\pradeepyamujala\\appdata\\roaming\\python\\python39\\site-packages (from groq) (4.12.2)\n",
      "Requirement already satisfied: exceptiongroup>=1.0.2 in c:\\users\\pradeepyamujala\\appdata\\roaming\\python\\python39\\site-packages (from anyio<5,>=3.5.0->groq) (1.2.2)\n",
      "Requirement already satisfied: idna>=2.8 in c:\\python39\\lib\\site-packages (from anyio<5,>=3.5.0->groq) (3.10)\n",
      "Requirement already satisfied: certifi in c:\\python39\\lib\\site-packages (from httpx<1,>=0.23.0->groq) (2024.12.14)\n",
      "Requirement already satisfied: httpcore==1.* in c:\\python39\\lib\\site-packages (from httpx<1,>=0.23.0->groq) (1.0.7)\n",
      "Requirement already satisfied: h11<0.15,>=0.13 in c:\\python39\\lib\\site-packages (from httpcore==1.*->httpx<1,>=0.23.0->groq) (0.14.0)\n",
      "Requirement already satisfied: annotated-types>=0.6.0 in c:\\python39\\lib\\site-packages (from pydantic<3,>=1.9.0->groq) (0.7.0)\n",
      "Requirement already satisfied: pydantic-core==2.27.2 in c:\\python39\\lib\\site-packages (from pydantic<3,>=1.9.0->groq) (2.27.2)\n",
      "Requirement already satisfied: langchain in c:\\python39\\lib\\site-packages (0.3.14)\n",
      "Requirement already satisfied: langgraph in c:\\python39\\lib\\site-packages (0.2.62)\n",
      "Requirement already satisfied: langsmith in c:\\python39\\lib\\site-packages (0.2.10)\n",
      "Requirement already satisfied: PyYAML>=5.3 in c:\\python39\\lib\\site-packages (from langchain) (6.0.2)\n",
      "Requirement already satisfied: SQLAlchemy<3,>=1.4 in c:\\python39\\lib\\site-packages (from langchain) (2.0.37)\n",
      "Requirement already satisfied: aiohttp<4.0.0,>=3.8.3 in c:\\python39\\lib\\site-packages (from langchain) (3.11.11)\n",
      "Requirement already satisfied: async-timeout<5.0.0,>=4.0.0 in c:\\python39\\lib\\site-packages (from langchain) (4.0.3)\n",
      "Requirement already satisfied: langchain-core<0.4.0,>=0.3.29 in c:\\python39\\lib\\site-packages (from langchain) (0.3.29)\n",
      "Requirement already satisfied: langchain-text-splitters<0.4.0,>=0.3.3 in c:\\python39\\lib\\site-packages (from langchain) (0.3.5)\n",
      "Requirement already satisfied: numpy<2,>=1.22.4 in c:\\python39\\lib\\site-packages (from langchain) (1.26.4)\n",
      "Requirement already satisfied: pydantic<3.0.0,>=2.7.4 in c:\\python39\\lib\\site-packages (from langchain) (2.10.5)\n",
      "Requirement already satisfied: requests<3,>=2 in c:\\python39\\lib\\site-packages (from langchain) (2.32.3)\n",
      "Requirement already satisfied: tenacity!=8.4.0,<10,>=8.1.0 in c:\\python39\\lib\\site-packages (from langchain) (9.0.0)\n",
      "Requirement already satisfied: langgraph-checkpoint<3.0.0,>=2.0.4 in c:\\python39\\lib\\site-packages (from langgraph) (2.0.9)\n",
      "Requirement already satisfied: langgraph-sdk<0.2.0,>=0.1.42 in c:\\python39\\lib\\site-packages (from langgraph) (0.1.51)\n",
      "Requirement already satisfied: httpx<1,>=0.23.0 in c:\\python39\\lib\\site-packages (from langsmith) (0.28.1)\n",
      "Requirement already satisfied: orjson<4.0.0,>=3.9.14 in c:\\python39\\lib\\site-packages (from langsmith) (3.10.14)\n",
      "Requirement already satisfied: requests-toolbelt<2.0.0,>=1.0.0 in c:\\python39\\lib\\site-packages (from langsmith) (1.0.0)\n",
      "Requirement already satisfied: aiohappyeyeballs>=2.3.0 in c:\\python39\\lib\\site-packages (from aiohttp<4.0.0,>=3.8.3->langchain) (2.4.4)\n",
      "Requirement already satisfied: aiosignal>=1.1.2 in c:\\python39\\lib\\site-packages (from aiohttp<4.0.0,>=3.8.3->langchain) (1.3.2)\n",
      "Requirement already satisfied: attrs>=17.3.0 in c:\\python39\\lib\\site-packages (from aiohttp<4.0.0,>=3.8.3->langchain) (24.3.0)\n",
      "Requirement already satisfied: frozenlist>=1.1.1 in c:\\python39\\lib\\site-packages (from aiohttp<4.0.0,>=3.8.3->langchain) (1.5.0)\n",
      "Requirement already satisfied: multidict<7.0,>=4.5 in c:\\python39\\lib\\site-packages (from aiohttp<4.0.0,>=3.8.3->langchain) (6.1.0)\n",
      "Requirement already satisfied: propcache>=0.2.0 in c:\\python39\\lib\\site-packages (from aiohttp<4.0.0,>=3.8.3->langchain) (0.2.1)\n",
      "Requirement already satisfied: yarl<2.0,>=1.17.0 in c:\\python39\\lib\\site-packages (from aiohttp<4.0.0,>=3.8.3->langchain) (1.18.3)\n",
      "Requirement already satisfied: anyio in c:\\python39\\lib\\site-packages (from httpx<1,>=0.23.0->langsmith) (4.8.0)\n",
      "Requirement already satisfied: certifi in c:\\python39\\lib\\site-packages (from httpx<1,>=0.23.0->langsmith) (2024.12.14)\n",
      "Requirement already satisfied: httpcore==1.* in c:\\python39\\lib\\site-packages (from httpx<1,>=0.23.0->langsmith) (1.0.7)\n",
      "Requirement already satisfied: idna in c:\\python39\\lib\\site-packages (from httpx<1,>=0.23.0->langsmith) (3.10)\n",
      "Requirement already satisfied: h11<0.15,>=0.13 in c:\\python39\\lib\\site-packages (from httpcore==1.*->httpx<1,>=0.23.0->langsmith) (0.14.0)\n",
      "Requirement already satisfied: jsonpatch<2.0,>=1.33 in c:\\python39\\lib\\site-packages (from langchain-core<0.4.0,>=0.3.29->langchain) (1.33)\n",
      "Requirement already satisfied: packaging<25,>=23.2 in c:\\users\\pradeepyamujala\\appdata\\roaming\\python\\python39\\site-packages (from langchain-core<0.4.0,>=0.3.29->langchain) (24.2)\n",
      "Requirement already satisfied: typing-extensions>=4.7 in c:\\users\\pradeepyamujala\\appdata\\roaming\\python\\python39\\site-packages (from langchain-core<0.4.0,>=0.3.29->langchain) (4.12.2)\n",
      "Requirement already satisfied: msgpack<2.0.0,>=1.1.0 in c:\\python39\\lib\\site-packages (from langgraph-checkpoint<3.0.0,>=2.0.4->langgraph) (1.1.0)\n",
      "Requirement already satisfied: annotated-types>=0.6.0 in c:\\python39\\lib\\site-packages (from pydantic<3.0.0,>=2.7.4->langchain) (0.7.0)\n",
      "Requirement already satisfied: pydantic-core==2.27.2 in c:\\python39\\lib\\site-packages (from pydantic<3.0.0,>=2.7.4->langchain) (2.27.2)\n",
      "Requirement already satisfied: charset-normalizer<4,>=2 in c:\\python39\\lib\\site-packages (from requests<3,>=2->langchain) (3.4.1)\n",
      "Requirement already satisfied: urllib3<3,>=1.21.1 in c:\\python39\\lib\\site-packages (from requests<3,>=2->langchain) (2.3.0)\n",
      "Requirement already satisfied: greenlet!=0.4.17 in c:\\python39\\lib\\site-packages (from SQLAlchemy<3,>=1.4->langchain) (3.1.1)\n",
      "Requirement already satisfied: jsonpointer>=1.9 in c:\\python39\\lib\\site-packages (from jsonpatch<2.0,>=1.33->langchain-core<0.4.0,>=0.3.29->langchain) (3.0.0)\n",
      "Requirement already satisfied: exceptiongroup>=1.0.2 in c:\\users\\pradeepyamujala\\appdata\\roaming\\python\\python39\\site-packages (from anyio->httpx<1,>=0.23.0->langsmith) (1.2.2)\n",
      "Requirement already satisfied: sniffio>=1.1 in c:\\python39\\lib\\site-packages (from anyio->httpx<1,>=0.23.0->langsmith) (1.3.1)\n",
      "Note: you may need to restart the kernel to use updated packages.\n"
     ]
    }
   ],
   "source": [
    "# Install the required package\n",
    "%pip install python-dotenv\n",
    "%pip install groq\n",
    "%pip install langchain langgraph langsmith"
   ]
  },
  {
   "cell_type": "markdown",
   "metadata": {},
   "source": [
    "## Define state\n",
    "LangGraph is a statemachine infrastructure with nodes and edges. State is a object that will be shared across these nodes and edges. The state object can be used for routing to a specific nodes based on conditions.\n",
    "\n",
    "A state will hold all the messages that are added or updated by nodes in a path. Nodes can also remove them. This object also holds the next node to invoke. Following is a simple state definition."
   ]
  },
  {
   "cell_type": "code",
   "execution_count": 1,
   "metadata": {},
   "outputs": [],
   "source": [
    "from typing import Dict, TypedDict,List\n",
    "from langchain.schema import BaseMessage\n",
    "\n",
    "# Define our state structure\n",
    "class State(TypedDict):\n",
    "    messages: List[BaseMessage]\n",
    "    next_step: str"
   ]
  },
  {
   "cell_type": "markdown",
   "metadata": {},
   "source": [
    "## StateGraph\n",
    "StateGraph is the core component that orchestrate the workflow. A StateGraph should know four things, \n",
    "1. Nodes\n",
    "2. Edges\n",
    "3. End Node\n",
    "4. Starting point\n",
    "\n",
    "### Node\n",
    "Node is just a function that takes State object, do something and return the updated state object.\n",
    "\n",
    "### Edge\n",
    "Edge is defined by two things, preceeding node and following node.\n",
    "\n",
    "### End Node\n",
    "End node has a specific name in LnagGraph, END. \n",
    "\n",
    "### Starting point\n",
    "Every stategraph should have a starting point to bigin the execution. We can point one node as starting point with the StateGraph method \"set_starting_point()\"."
   ]
  },
  {
   "cell_type": "code",
   "execution_count": 2,
   "metadata": {},
   "outputs": [],
   "source": [
    "from langgraph.graph import StateGraph, END\n",
    "\n",
    "# StateGraph\n",
    "workflow = StateGraph(State)\n",
    "\n",
    "# Our first node\n",
    "def firstNode(state: State) -> State:\n",
    "    state[\"messages\"].append({\"content\": \"Our first langgraph node\", \"role\":\"assistant\"})\n",
    "    state[\"next_step\"] = \"end\" # end is framework's node to designate the end node\n",
    "    \n",
    "    return state\n",
    "\n",
    "# Lets add our first node to workflow\n",
    "workflow.add_node(\"say_hi\", firstNode)\n",
    "\n",
    "# Lets wireup the node with start and end nodes\n",
    "workflow.add_edge(\"say_hi\", END)    # Connecting the END Node\n",
    "workflow.set_entry_point(\"say_hi\")  # Pointing the _START_ node\n",
    "\n",
    "# All done, lets compile the workflow to make an app\n",
    "app = workflow.compile()"
   ]
  },
  {
   "cell_type": "markdown",
   "metadata": {},
   "source": [
    "Now the workflow is compiled and ready for execution. We can visualize the workflow that we created to identify any mistages."
   ]
  },
  {
   "cell_type": "code",
   "execution_count": 3,
   "metadata": {},
   "outputs": [
    {
     "data": {
      "image/png": "[encoded data removed]",
      "text/plain": [
       "<IPython.core.display.Image object>"
      ]
     },
     "metadata": {},
     "output_type": "display_data"
    }
   ],
   "source": [
    "from IPython.display import Image, display\n",
    "\n",
    "display(Image(app.get_graph().draw_mermaid_png()))"
   ]
  },
  {
   "cell_type": "markdown",
   "metadata": {},
   "source": [
    "## Run the app/workflow"
   ]
  },
  {
   "cell_type": "code",
   "execution_count": 4,
   "metadata": {},
   "outputs": [
    {
     "name": "stdout",
     "output_type": "stream",
     "text": [
      "Assistant: Our first langgraph node\n",
      "End of workflow\n"
     ]
    }
   ],
   "source": [
    "init_state = {\"next_step\":\"\", \"messages\":[]}\n",
    "\n",
    "for event in app.stream(init_state):\n",
    "    for output in event.values():\n",
    "        if \"messages\" in output:\n",
    "            for message in output[\"messages\"]:\n",
    "                if message[\"role\"] == \"assistant\":\n",
    "                    print(f\"Assistant: {message['content']}\")\n",
    "                elif message[\"role\"] == \"human\":\n",
    "                    print(f\"Human: {message['content']}\")\n",
    "                    \n",
    "print(\"End of workflow\")"
   ]
  }
 ],
 "metadata": {
  "kernelspec": {
   "display_name": "Python 3",
   "language": "python",
   "name": "python3"
  },
  "language_info": {
   "codemirror_mode": {
    "name": "ipython",
    "version": 3
   },
   "file_extension": ".py",
   "mimetype": "text/x-python",
   "name": "python",
   "nbconvert_exporter": "python",
   "pygments_lexer": "ipython3",
   "version": "3.9.7"
  }
 },
 "nbformat": 4,
 "nbformat_minor": 2
}
