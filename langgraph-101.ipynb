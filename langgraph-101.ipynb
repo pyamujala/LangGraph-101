{
 "cells": [
  {
   "cell_type": "code",
   "execution_count": null,
   "metadata": {},
   "outputs": [],
   "source": []
  },
  {
   "cell_type": "code",
   "execution_count": 6,
   "metadata": {},
   "outputs": [
    {
     "name": "stdout",
     "output_type": "stream",
     "text": [
      "Requirement already satisfied: python-dotenv in c:\\repository\\langchain\\langgraph\\101\\.venv\\lib\\site-packages (1.0.1)\n",
      "Note: you may need to restart the kernel to use updated packages.\n",
      "Requirement already satisfied: groq in c:\\repository\\langchain\\langgraph\\101\\.venv\\lib\\site-packages (0.14.0)\n",
      "Requirement already satisfied: anyio<5,>=3.5.0 in c:\\repository\\langchain\\langgraph\\101\\.venv\\lib\\site-packages (from groq) (4.8.0)\n",
      "Requirement already satisfied: distro<2,>=1.7.0 in c:\\repository\\langchain\\langgraph\\101\\.venv\\lib\\site-packages (from groq) (1.9.0)\n",
      "Requirement already satisfied: httpx<1,>=0.23.0 in c:\\repository\\langchain\\langgraph\\101\\.venv\\lib\\site-packages (from groq) (0.28.1)\n",
      "Requirement already satisfied: pydantic<3,>=1.9.0 in c:\\repository\\langchain\\langgraph\\101\\.venv\\lib\\site-packages (from groq) (2.10.5)\n",
      "Requirement already satisfied: sniffio in c:\\repository\\langchain\\langgraph\\101\\.venv\\lib\\site-packages (from groq) (1.3.1)\n",
      "Requirement already satisfied: typing-extensions<5,>=4.10 in c:\\repository\\langchain\\langgraph\\101\\.venv\\lib\\site-packages (from groq) (4.12.2)\n",
      "Requirement already satisfied: idna>=2.8 in c:\\repository\\langchain\\langgraph\\101\\.venv\\lib\\site-packages (from anyio<5,>=3.5.0->groq) (3.10)\n",
      "Requirement already satisfied: certifi in c:\\repository\\langchain\\langgraph\\101\\.venv\\lib\\site-packages (from httpx<1,>=0.23.0->groq) (2024.12.14)\n",
      "Requirement already satisfied: httpcore==1.* in c:\\repository\\langchain\\langgraph\\101\\.venv\\lib\\site-packages (from httpx<1,>=0.23.0->groq) (1.0.7)\n",
      "Requirement already satisfied: h11<0.15,>=0.13 in c:\\repository\\langchain\\langgraph\\101\\.venv\\lib\\site-packages (from httpcore==1.*->httpx<1,>=0.23.0->groq) (0.14.0)\n",
      "Requirement already satisfied: annotated-types>=0.6.0 in c:\\repository\\langchain\\langgraph\\101\\.venv\\lib\\site-packages (from pydantic<3,>=1.9.0->groq) (0.7.0)\n",
      "Requirement already satisfied: pydantic-core==2.27.2 in c:\\repository\\langchain\\langgraph\\101\\.venv\\lib\\site-packages (from pydantic<3,>=1.9.0->groq) (2.27.2)\n",
      "Note: you may need to restart the kernel to use updated packages.\n",
      "Collecting langchain\n",
      "  Downloading langchain-0.3.14-py3-none-any.whl.metadata (7.1 kB)\n",
      "Requirement already satisfied: langgraph in c:\\repository\\langchain\\langgraph\\101\\.venv\\lib\\site-packages (0.2.61)\n",
      "Requirement already satisfied: langsmith in c:\\repository\\langchain\\langgraph\\101\\.venv\\lib\\site-packages (0.2.10)\n",
      "Requirement already satisfied: langchain_groq in c:\\repository\\langchain\\langgraph\\101\\.venv\\lib\\site-packages (0.2.3)\n",
      "Requirement already satisfied: PyYAML>=5.3 in c:\\repository\\langchain\\langgraph\\101\\.venv\\lib\\site-packages (from langchain) (6.0.2)\n",
      "Collecting SQLAlchemy<3,>=1.4 (from langchain)\n",
      "  Downloading SQLAlchemy-2.0.37-cp312-cp312-win_amd64.whl.metadata (9.9 kB)\n",
      "Collecting aiohttp<4.0.0,>=3.8.3 (from langchain)\n",
      "  Downloading aiohttp-3.11.11-cp312-cp312-win_amd64.whl.metadata (8.0 kB)\n",
      "Requirement already satisfied: langchain-core<0.4.0,>=0.3.29 in c:\\repository\\langchain\\langgraph\\101\\.venv\\lib\\site-packages (from langchain) (0.3.29)\n",
      "Collecting langchain-text-splitters<0.4.0,>=0.3.3 (from langchain)\n",
      "  Downloading langchain_text_splitters-0.3.5-py3-none-any.whl.metadata (2.3 kB)\n",
      "Collecting numpy<3,>=1.26.2 (from langchain)\n",
      "  Downloading numpy-2.2.1-cp312-cp312-win_amd64.whl.metadata (60 kB)\n",
      "Requirement already satisfied: pydantic<3.0.0,>=2.7.4 in c:\\repository\\langchain\\langgraph\\101\\.venv\\lib\\site-packages (from langchain) (2.10.5)\n",
      "Requirement already satisfied: requests<3,>=2 in c:\\repository\\langchain\\langgraph\\101\\.venv\\lib\\site-packages (from langchain) (2.32.3)\n",
      "Requirement already satisfied: tenacity!=8.4.0,<10,>=8.1.0 in c:\\repository\\langchain\\langgraph\\101\\.venv\\lib\\site-packages (from langchain) (9.0.0)\n",
      "Requirement already satisfied: langgraph-checkpoint<3.0.0,>=2.0.4 in c:\\repository\\langchain\\langgraph\\101\\.venv\\lib\\site-packages (from langgraph) (2.0.9)\n",
      "Requirement already satisfied: langgraph-sdk<0.2.0,>=0.1.42 in c:\\repository\\langchain\\langgraph\\101\\.venv\\lib\\site-packages (from langgraph) (0.1.51)\n",
      "Requirement already satisfied: httpx<1,>=0.23.0 in c:\\repository\\langchain\\langgraph\\101\\.venv\\lib\\site-packages (from langsmith) (0.28.1)\n",
      "Requirement already satisfied: orjson<4.0.0,>=3.9.14 in c:\\repository\\langchain\\langgraph\\101\\.venv\\lib\\site-packages (from langsmith) (3.10.14)\n",
      "Requirement already satisfied: requests-toolbelt<2.0.0,>=1.0.0 in c:\\repository\\langchain\\langgraph\\101\\.venv\\lib\\site-packages (from langsmith) (1.0.0)\n",
      "Requirement already satisfied: groq<1,>=0.4.1 in c:\\repository\\langchain\\langgraph\\101\\.venv\\lib\\site-packages (from langchain_groq) (0.14.0)\n",
      "Collecting aiohappyeyeballs>=2.3.0 (from aiohttp<4.0.0,>=3.8.3->langchain)\n",
      "  Downloading aiohappyeyeballs-2.4.4-py3-none-any.whl.metadata (6.1 kB)\n",
      "Collecting aiosignal>=1.1.2 (from aiohttp<4.0.0,>=3.8.3->langchain)\n",
      "  Downloading aiosignal-1.3.2-py2.py3-none-any.whl.metadata (3.8 kB)\n",
      "Collecting attrs>=17.3.0 (from aiohttp<4.0.0,>=3.8.3->langchain)\n",
      "  Downloading attrs-24.3.0-py3-none-any.whl.metadata (11 kB)\n",
      "Collecting frozenlist>=1.1.1 (from aiohttp<4.0.0,>=3.8.3->langchain)\n",
      "  Downloading frozenlist-1.5.0-cp312-cp312-win_amd64.whl.metadata (14 kB)\n",
      "Collecting multidict<7.0,>=4.5 (from aiohttp<4.0.0,>=3.8.3->langchain)\n",
      "  Downloading multidict-6.1.0-cp312-cp312-win_amd64.whl.metadata (5.1 kB)\n",
      "Collecting propcache>=0.2.0 (from aiohttp<4.0.0,>=3.8.3->langchain)\n",
      "  Downloading propcache-0.2.1-cp312-cp312-win_amd64.whl.metadata (9.5 kB)\n",
      "Collecting yarl<2.0,>=1.17.0 (from aiohttp<4.0.0,>=3.8.3->langchain)\n",
      "  Downloading yarl-1.18.3-cp312-cp312-win_amd64.whl.metadata (71 kB)\n",
      "Requirement already satisfied: anyio<5,>=3.5.0 in c:\\repository\\langchain\\langgraph\\101\\.venv\\lib\\site-packages (from groq<1,>=0.4.1->langchain_groq) (4.8.0)\n",
      "Requirement already satisfied: distro<2,>=1.7.0 in c:\\repository\\langchain\\langgraph\\101\\.venv\\lib\\site-packages (from groq<1,>=0.4.1->langchain_groq) (1.9.0)\n",
      "Requirement already satisfied: sniffio in c:\\repository\\langchain\\langgraph\\101\\.venv\\lib\\site-packages (from groq<1,>=0.4.1->langchain_groq) (1.3.1)\n",
      "Requirement already satisfied: typing-extensions<5,>=4.10 in c:\\repository\\langchain\\langgraph\\101\\.venv\\lib\\site-packages (from groq<1,>=0.4.1->langchain_groq) (4.12.2)\n",
      "Requirement already satisfied: certifi in c:\\repository\\langchain\\langgraph\\101\\.venv\\lib\\site-packages (from httpx<1,>=0.23.0->langsmith) (2024.12.14)\n",
      "Requirement already satisfied: httpcore==1.* in c:\\repository\\langchain\\langgraph\\101\\.venv\\lib\\site-packages (from httpx<1,>=0.23.0->langsmith) (1.0.7)\n",
      "Requirement already satisfied: idna in c:\\repository\\langchain\\langgraph\\101\\.venv\\lib\\site-packages (from httpx<1,>=0.23.0->langsmith) (3.10)\n",
      "Requirement already satisfied: h11<0.15,>=0.13 in c:\\repository\\langchain\\langgraph\\101\\.venv\\lib\\site-packages (from httpcore==1.*->httpx<1,>=0.23.0->langsmith) (0.14.0)\n",
      "Requirement already satisfied: jsonpatch<2.0,>=1.33 in c:\\repository\\langchain\\langgraph\\101\\.venv\\lib\\site-packages (from langchain-core<0.4.0,>=0.3.29->langchain) (1.33)\n",
      "Requirement already satisfied: packaging<25,>=23.2 in c:\\repository\\langchain\\langgraph\\101\\.venv\\lib\\site-packages (from langchain-core<0.4.0,>=0.3.29->langchain) (24.2)\n",
      "Requirement already satisfied: msgpack<2.0.0,>=1.1.0 in c:\\repository\\langchain\\langgraph\\101\\.venv\\lib\\site-packages (from langgraph-checkpoint<3.0.0,>=2.0.4->langgraph) (1.1.0)\n",
      "Requirement already satisfied: annotated-types>=0.6.0 in c:\\repository\\langchain\\langgraph\\101\\.venv\\lib\\site-packages (from pydantic<3.0.0,>=2.7.4->langchain) (0.7.0)\n",
      "Requirement already satisfied: pydantic-core==2.27.2 in c:\\repository\\langchain\\langgraph\\101\\.venv\\lib\\site-packages (from pydantic<3.0.0,>=2.7.4->langchain) (2.27.2)\n",
      "Requirement already satisfied: charset-normalizer<4,>=2 in c:\\repository\\langchain\\langgraph\\101\\.venv\\lib\\site-packages (from requests<3,>=2->langchain) (3.4.1)\n",
      "Requirement already satisfied: urllib3<3,>=1.21.1 in c:\\repository\\langchain\\langgraph\\101\\.venv\\lib\\site-packages (from requests<3,>=2->langchain) (2.3.0)\n",
      "Collecting greenlet!=0.4.17 (from SQLAlchemy<3,>=1.4->langchain)\n",
      "  Downloading greenlet-3.1.1-cp312-cp312-win_amd64.whl.metadata (3.9 kB)\n",
      "Requirement already satisfied: jsonpointer>=1.9 in c:\\repository\\langchain\\langgraph\\101\\.venv\\lib\\site-packages (from jsonpatch<2.0,>=1.33->langchain-core<0.4.0,>=0.3.29->langchain) (3.0.0)\n",
      "Downloading langchain-0.3.14-py3-none-any.whl (1.0 MB)\n",
      "   ---------------------------------------- 0.0/1.0 MB ? eta -:--:--\n",
      "   ---------------------------------------- 1.0/1.0 MB 5.3 MB/s eta 0:00:00\n",
      "Downloading aiohttp-3.11.11-cp312-cp312-win_amd64.whl (437 kB)\n",
      "Downloading langchain_text_splitters-0.3.5-py3-none-any.whl (31 kB)\n",
      "Downloading numpy-2.2.1-cp312-cp312-win_amd64.whl (12.6 MB)\n",
      "   ---------------------------------------- 0.0/12.6 MB ? eta -:--:--\n",
      "   --- ------------------------------------ 1.0/12.6 MB 4.6 MB/s eta 0:00:03\n",
      "   ----- ---------------------------------- 1.8/12.6 MB 4.2 MB/s eta 0:00:03\n",
      "   -------- ------------------------------- 2.6/12.6 MB 4.2 MB/s eta 0:00:03\n",
      "   ---------- ----------------------------- 3.4/12.6 MB 4.0 MB/s eta 0:00:03\n",
      "   ------------- -------------------------- 4.2/12.6 MB 4.1 MB/s eta 0:00:03\n",
      "   ---------------- ----------------------- 5.2/12.6 MB 4.0 MB/s eta 0:00:02\n",
      "   ------------------- -------------------- 6.0/12.6 MB 4.0 MB/s eta 0:00:02\n",
      "   --------------------- ------------------ 6.8/12.6 MB 4.0 MB/s eta 0:00:02\n",
      "   ------------------------ --------------- 7.6/12.6 MB 4.0 MB/s eta 0:00:02\n",
      "   -------------------------- ------------- 8.4/12.6 MB 4.0 MB/s eta 0:00:02\n",
      "   ----------------------------- ---------- 9.2/12.6 MB 4.0 MB/s eta 0:00:01\n",
      "   ------------------------------- -------- 10.0/12.6 MB 4.0 MB/s eta 0:00:01\n",
      "   ---------------------------------- ----- 10.7/12.6 MB 3.9 MB/s eta 0:00:01\n",
      "   ------------------------------------ --- 11.5/12.6 MB 3.9 MB/s eta 0:00:01\n",
      "   ---------------------------------------  12.6/12.6 MB 3.9 MB/s eta 0:00:01\n",
      "   ---------------------------------------- 12.6/12.6 MB 3.9 MB/s eta 0:00:00\n",
      "Downloading SQLAlchemy-2.0.37-cp312-cp312-win_amd64.whl (2.1 MB)\n",
      "   ---------------------------------------- 0.0/2.1 MB ? eta -:--:--\n",
      "   ------------------- -------------------- 1.0/2.1 MB 5.6 MB/s eta 0:00:01\n",
      "   ---------------------------------- ----- 1.8/2.1 MB 4.6 MB/s eta 0:00:01\n",
      "   ---------------------------------------- 2.1/2.1 MB 4.2 MB/s eta 0:00:00\n",
      "Downloading aiohappyeyeballs-2.4.4-py3-none-any.whl (14 kB)\n",
      "Downloading aiosignal-1.3.2-py2.py3-none-any.whl (7.6 kB)\n",
      "Downloading attrs-24.3.0-py3-none-any.whl (63 kB)\n",
      "Downloading frozenlist-1.5.0-cp312-cp312-win_amd64.whl (51 kB)\n",
      "Downloading greenlet-3.1.1-cp312-cp312-win_amd64.whl (299 kB)\n",
      "Downloading multidict-6.1.0-cp312-cp312-win_amd64.whl (28 kB)\n",
      "Downloading propcache-0.2.1-cp312-cp312-win_amd64.whl (44 kB)\n",
      "Downloading yarl-1.18.3-cp312-cp312-win_amd64.whl (90 kB)\n",
      "Installing collected packages: propcache, numpy, multidict, greenlet, frozenlist, attrs, aiohappyeyeballs, yarl, SQLAlchemy, aiosignal, aiohttp, langchain-text-splitters, langchain\n",
      "Successfully installed SQLAlchemy-2.0.37 aiohappyeyeballs-2.4.4 aiohttp-3.11.11 aiosignal-1.3.2 attrs-24.3.0 frozenlist-1.5.0 greenlet-3.1.1 langchain-0.3.14 langchain-text-splitters-0.3.5 multidict-6.1.0 numpy-2.2.1 propcache-0.2.1 yarl-1.18.3\n",
      "Note: you may need to restart the kernel to use updated packages.\n"
     ]
    }
   ],
   "source": [
    "# Install the required package\n",
    "%pip install python-dotenv\n",
    "%pip install groq\n",
    "%pip install langchain langgraph langsmith langchain_groq"
   ]
  },
  {
   "cell_type": "markdown",
   "metadata": {},
   "source": [
    "## Define state\n",
    "LangGraph is a statemachine infrastructure with nodes and edges. State is a object that will be shared across these nodes and edges. The state object can be used for routing to a specific nodes based on conditions.\n",
    "\n",
    "A state will hold all the messages that are added or updated by nodes in a path. Nodes can also remove them. This object also holds the next node to invoke. Following is a simple state definition."
   ]
  },
  {
   "cell_type": "code",
   "execution_count": 1,
   "metadata": {},
   "outputs": [],
   "source": [
    "from typing import Dict, TypedDict,List\n",
    "from langchain.schema import BaseMessage\n",
    "\n",
    "# Define our state structure\n",
    "class State(TypedDict):\n",
    "    messages: List[BaseMessage]\n",
    "    next_step: str"
   ]
  },
  {
   "cell_type": "markdown",
   "metadata": {},
   "source": [
    "## StateGraph\n",
    "StateGraph is the core component that orchestrate the workflow. A StateGraph should know four things, \n",
    "1. Nodes\n",
    "2. Edges\n",
    "3. End Node\n",
    "4. Starting point\n",
    "\n",
    "### Node\n",
    "Node is just a function that takes State object, do something and return the updated state object.\n",
    "\n",
    "### Edge\n",
    "Edge is defined by two things, preceeding node and following node.\n",
    "\n",
    "### End Node\n",
    "End node has a specific name in LnagGraph, END. \n",
    "\n",
    "### Starting point\n",
    "Every stategraph should have a starting point to bigin the execution. We can point one node as starting point with the StateGraph method \"set_starting_point()\"."
   ]
  },
  {
   "cell_type": "code",
   "execution_count": 9,
   "metadata": {},
   "outputs": [],
   "source": [
    "from langgraph.graph import StateGraph, END\n",
    "\n",
    "# StateGraph\n",
    "workflow = StateGraph(State)\n",
    "\n",
    "# Our first node\n",
    "def firstNode(state: State) -> State:\n",
    "    state[\"messages\"].append({\"content\": \"Our first langgraph node\", \"role\":\"assistant\"})\n",
    "    state[\"next_step\"] = \"end\" # end is framework's node to designate the end node\n",
    "    \n",
    "    return state\n",
    "\n",
    "# Lets add our first node to workflow\n",
    "workflow.add_node(\"say_hi\", firstNode)\n",
    "\n",
    "# Lets wireup the node with start and end nodes\n",
    "workflow.add_edge(\"say_hi\", END)    # Connecting the END Node\n",
    "workflow.set_entry_point(\"say_hi\")  # Pointing the _START_ node\n",
    "\n",
    "# All done, lets compile the workflow to make an app\n",
    "app = workflow.compile()"
   ]
  },
  {
   "cell_type": "markdown",
   "metadata": {},
   "source": [
    "Now the workflow is compiled and ready for execution. We can visualize the workflow that we created to identify any mistages."
   ]
  },
  {
   "cell_type": "code",
   "execution_count": 6,
   "metadata": {},
   "outputs": [
    {
     "data": {
      "image/png": "[encoded data removed]",
      "text/plain": [
       "<IPython.core.display.Image object>"
      ]
     },
     "metadata": {},
     "output_type": "display_data"
    }
   ],
   "source": [
    "from IPython.display import Image, display\n",
    "\n",
    "display(Image(app.get_graph().draw_mermaid_png()))"
   ]
  },
  {
   "cell_type": "markdown",
   "metadata": {},
   "source": [
    "## Run the app/workflow"
   ]
  },
  {
   "cell_type": "code",
   "execution_count": 10,
   "metadata": {},
   "outputs": [
    {
     "name": "stdout",
     "output_type": "stream",
     "text": [
      "Assistant: Our first langgraph node\n",
      "End of workflow\n"
     ]
    }
   ],
   "source": [
    "init_state = {\"next_step\":\"\", \"messages\":[]}\n",
    "\n",
    "for event in app.stream(init_state):\n",
    "    for output in event.values():\n",
    "        if \"messages\" in output:\n",
    "            for message in output[\"messages\"]:\n",
    "                if message[\"role\"] == \"assistant\":\n",
    "                    print(f\"Assistant: {message['content']}\")\n",
    "                elif message[\"role\"] == \"human\":\n",
    "                    print(f\"Human: {message['content']}\")\n",
    "                    \n",
    "print(\"End of workflow\")"
   ]
  }
 ],
 "metadata": {
  "kernelspec": {
   "display_name": ".venv",
   "language": "python",
   "name": "python3"
  },
  "language_info": {
   "codemirror_mode": {
    "name": "ipython",
    "version": 3
   },
   "file_extension": ".py",
   "mimetype": "text/x-python",
   "name": "python",
   "nbconvert_exporter": "python",
   "pygments_lexer": "ipython3",
   "version": "3.12.0"
  }
 },
 "nbformat": 4,
 "nbformat_minor": 2
}
