{
 "cells": [
  {
   "cell_type": "markdown",
   "metadata": {},
   "source": [
    "## LangGraph, capture user's input\n",
    "This script is to capture the user's input and display it. This will demonstrate the Human-In-Loop (HIL) feature of LangGraph."
   ]
  },
  {
   "cell_type": "code",
   "execution_count": 1,
   "metadata": {},
   "outputs": [
    {
     "name": "stdout",
     "output_type": "stream",
     "text": [
      "c:\\Repository\\LangGraph\\LangGraph-101\\.env.local\n"
     ]
    }
   ],
   "source": [
    "# Load environments\n",
    "from dotenv import load_dotenv\n",
    "import os\n",
    "import os.path\n",
    "\n",
    "def load_env_file(filepath):\n",
    "    with open(filepath) as f:\n",
    "        for line in f:\n",
    "            if line.strip() and not line.startswith('#'):\n",
    "                key, value = line.strip().split('=', 1)\n",
    "                os.environ[key] = value\n",
    "\n",
    "# Load the environment variables\n",
    "filename = \".env.local\"\n",
    "full_path = os.path.join(os.getcwd(), filename)\n",
    "print(full_path)\n",
    "\n",
    "if os.path.exists(full_path): \n",
    "    load_env_file(full_path)     \n",
    "else:\n",
    "    load_dotenv()"
   ]
  },
  {
   "cell_type": "code",
   "execution_count": 2,
   "metadata": {},
   "outputs": [],
   "source": [
    "from typing import TypedDict,List\n",
    "from langchain.schema import BaseMessage\n",
    "\n",
    "# Define our state structure\n",
    "class State(TypedDict):\n",
    "    messages: List[BaseMessage]\n",
    "    next_step: str"
   ]
  },
  {
   "cell_type": "code",
   "execution_count": 7,
   "metadata": {},
   "outputs": [],
   "source": [
    "from langgraph.graph import StateGraph, END\n",
    "from groq import Groq\n",
    "\n",
    "# StateGraph\n",
    "workflow = StateGraph(State)\n",
    "\n",
    "# Node to ask the question\n",
    "def ask_human(state: State) -> State:\n",
    "    state[\"messages\"].append({\"role\": \"assistant\", \"content\": \"Hello! What's your query?\"})\n",
    "    state[\"next_step\"] = \"query_llm\"\n",
    "\n",
    "    return state\n",
    "\n",
    "def query_llm(state:State) -> State:\n",
    "    query = state[\"messages\"][-1][\"content\"]\n",
    "    client  = Groq(api_key = os.getenv(\"GROQ_API_KEY\"))\n",
    "    chat_completion = client.chat.completions.create(\n",
    "        messages=[\n",
    "            {\n",
    "                \"role\": \"user\",\n",
    "                \"content\": query\n",
    "            }\n",
    "        ],\n",
    "        model=\"gemma2-9b-it\",\n",
    "        stream=False\n",
    "    )\n",
    "\n",
    "    state[\"messages\"].append({\"role\": \"assistant\", \"content\": chat_completion.choices[0].message.content})\n",
    "    state[\"next_step\"] = \"end\"\n",
    "    return state\n",
    "\n",
    "# Add nodes to workflow\n",
    "workflow.add_node(\"ask_human\", ask_human)\n",
    "workflow.add_node(\"query_llm\", query_llm)\n",
    "\n",
    "# Lets wireup the node with start and end nodes\n",
    "workflow.set_entry_point(\"ask_human\")  # Pointing the _START_ node\n",
    "workflow.add_edge(\"ask_human\", \"query_llm\") \n",
    "workflow.add_edge(\"query_llm\", END)  # Pointing the _END_ node\n",
    "\n",
    "# All done, lets compile the workflow to make an app\n",
    "graph = workflow.compile()"
   ]
  },
  {
   "cell_type": "markdown",
   "metadata": {},
   "source": [
    "Now the workflow is compiled and ready for execution. We can visualize the workflow that we created to identify any mistages."
   ]
  },
  {
   "cell_type": "code",
   "execution_count": 8,
   "metadata": {},
   "outputs": [
    {
     "data": {
      "image/png": "[encoded data removed]",
      "text/plain": [
       "<IPython.core.display.Image object>"
      ]
     },
     "metadata": {},
     "output_type": "display_data"
    }
   ],
   "source": [
    "from IPython.display import Image, display\n",
    "\n",
    "display(Image(graph.get_graph().draw_mermaid_png()))"
   ]
  },
  {
   "cell_type": "markdown",
   "metadata": {},
   "source": [
    "## Run the app/workflow"
   ]
  },
  {
   "cell_type": "code",
   "execution_count": 9,
   "metadata": {},
   "outputs": [
    {
     "name": "stdout",
     "output_type": "stream",
     "text": [
      "Assistant: Hello! What's your query?\n",
      "Assistant: Hello! What's your query?\n",
      "Human: what is your name\n",
      "Assistant: My name is Gemma. I am an open-weights AI assistant.\n",
      "\n",
      "End of workflow\n"
     ]
    }
   ],
   "source": [
    "import uuid\n",
    "\n",
    "init_state = {\"next_step\":\"\", \"messages\":[]}\n",
    "config = {\n",
    "    \"configurable\": {\n",
    "        \"thread_id\": uuid.uuid4(),\n",
    "    }\n",
    "}\n",
    "\n",
    "for event in graph.stream(init_state, config):\n",
    "    for output in event.values():\n",
    "        if \"messages\" in output:\n",
    "            for message in output[\"messages\"]:\n",
    "                if message[\"role\"] == \"assistant\":\n",
    "                    print(f\"Assistant: {message['content']}\")\n",
    "                elif message[\"role\"] == \"human\":\n",
    "                    print(f\"Human: {message['content']}\")\n",
    "    \n",
    "    # Check if 'next_step' exists\n",
    "    if \"next_step\" in output and output[\"next_step\"] == \"query_llm\":\n",
    "        user_input = input(\"Your response: \")\n",
    "        output[\"messages\"].append({\"role\": \"human\", \"content\": user_input})\n",
    "                    \n",
    "print(\"End of workflow\")"
   ]
  }
 ],
 "metadata": {
  "kernelspec": {
   "display_name": "Python 3",
   "language": "python",
   "name": "python3"
  },
  "language_info": {
   "codemirror_mode": {
    "name": "ipython",
    "version": 3
   },
   "file_extension": ".py",
   "mimetype": "text/x-python",
   "name": "python",
   "nbconvert_exporter": "python",
   "pygments_lexer": "ipython3",
   "version": "3.9.7"
  }
 },
 "nbformat": 4,
 "nbformat_minor": 2
}
